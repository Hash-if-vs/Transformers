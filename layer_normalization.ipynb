{
 "cells": [
  {
   "cell_type": "markdown",
   "metadata": {},
   "source": [
    "# Layer Normalization"
   ]
  },
  {
   "cell_type": "code",
   "execution_count": 1,
   "metadata": {},
   "outputs": [],
   "source": [
    "import torch\n",
    "from torch import nn"
   ]
  },
  {
   "cell_type": "code",
   "execution_count": 4,
   "metadata": {},
   "outputs": [
    {
     "name": "stdout",
     "output_type": "stream",
     "text": [
      "torch.Size([1, 2, 3])\n"
     ]
    },
    {
     "data": {
      "text/plain": [
       "(tensor([[[0.2000, 0.1000, 0.3000]],\n",
       " \n",
       "         [[0.5000, 0.1000, 0.1000]]]),\n",
       " torch.Size([2, 1, 3]))"
      ]
     },
     "execution_count": 4,
     "metadata": {},
     "output_type": "execute_result"
    }
   ],
   "source": [
    "inputs= torch.tensor([[[.2,.1,.3],[.5,.1,.1]]])\n",
    "print(inputs.size())\n",
    "B,S,E= inputs.size()\n",
    "inputs=inputs.reshape(S,B,E)\n",
    "inputs, inputs.size()"
   ]
  },
  {
   "cell_type": "code",
   "execution_count": 6,
   "metadata": {},
   "outputs": [
    {
     "data": {
      "text/plain": [
       "torch.Size([1, 3])"
      ]
     },
     "execution_count": 6,
     "metadata": {},
     "output_type": "execute_result"
    }
   ],
   "source": [
    "parameter_shape= inputs.size()[-2:]\n",
    "parameter_shape"
   ]
  },
  {
   "cell_type": "code",
   "execution_count": 8,
   "metadata": {},
   "outputs": [
    {
     "data": {
      "text/plain": [
       "Parameter containing:\n",
       "tensor([[1., 1., 1.]], requires_grad=True)"
      ]
     },
     "execution_count": 8,
     "metadata": {},
     "output_type": "execute_result"
    }
   ],
   "source": [
    "gamma= nn.Parameter(torch.ones(parameter_shape))\n",
    "gamma"
   ]
  },
  {
   "cell_type": "code",
   "execution_count": 9,
   "metadata": {},
   "outputs": [],
   "source": [
    "beta= nn.Parameter(torch.zeros(parameter_shape))"
   ]
  },
  {
   "cell_type": "code",
   "execution_count": 10,
   "metadata": {},
   "outputs": [
    {
     "data": {
      "text/plain": [
       "[-1, -2]"
      ]
     },
     "execution_count": 10,
     "metadata": {},
     "output_type": "execute_result"
    }
   ],
   "source": [
    "dims=[-(i+1) for i in range(len(parameter_shape))]\n",
    "dims"
   ]
  },
  {
   "cell_type": "code",
   "execution_count": 13,
   "metadata": {},
   "outputs": [
    {
     "data": {
      "text/plain": [
       "(tensor([[[0.2000]],\n",
       " \n",
       "         [[0.2333]]]),\n",
       " torch.Size([2, 1, 1]))"
      ]
     },
     "execution_count": 13,
     "metadata": {},
     "output_type": "execute_result"
    }
   ],
   "source": [
    "mean= inputs.mean(dims,keepdim=True)\n",
    "mean, mean.shape  "
   ]
  },
  {
   "cell_type": "code",
   "execution_count": 15,
   "metadata": {},
   "outputs": [
    {
     "name": "stdout",
     "output_type": "stream",
     "text": [
      "tensor([[[0.0067]],\n",
      "\n",
      "        [[0.0356]]])\n"
     ]
    },
    {
     "data": {
      "text/plain": [
       "tensor([[[0.0817]],\n",
       "\n",
       "        [[0.1886]]])"
      ]
     },
     "execution_count": 15,
     "metadata": {},
     "output_type": "execute_result"
    }
   ],
   "source": [
    "var=((inputs-mean)**2).mean(dims,keepdim=True)\n",
    "print(var)\n",
    "epsilon= 1e-5\n",
    "std=(var+epsilon).sqrt()\n",
    "std"
   ]
  },
  {
   "cell_type": "code",
   "execution_count": 17,
   "metadata": {},
   "outputs": [
    {
     "data": {
      "text/plain": [
       "tensor([[[ 0.0000, -1.2238,  1.2238]],\n",
       "\n",
       "        [[ 1.4140, -0.7070, -0.7070]]])"
      ]
     },
     "execution_count": 17,
     "metadata": {},
     "output_type": "execute_result"
    }
   ],
   "source": [
    "y= (inputs-mean)/std\n",
    "y"
   ]
  },
  {
   "cell_type": "code",
   "execution_count": 18,
   "metadata": {},
   "outputs": [
    {
     "data": {
      "text/plain": [
       "tensor([[[ 0.0000, -1.2238,  1.2238]],\n",
       "\n",
       "        [[ 1.4140, -0.7070, -0.7070]]], grad_fn=<AddBackward0>)"
      ]
     },
     "execution_count": 18,
     "metadata": {},
     "output_type": "execute_result"
    }
   ],
   "source": [
    "out = gamma*y + beta\n",
    "out"
   ]
  },
  {
   "cell_type": "code",
   "execution_count": 19,
   "metadata": {},
   "outputs": [],
   "source": [
    "import torch\n",
    "from torch import nn\n",
    "\n",
    "class LayerNormalization():\n",
    "    def __init__(self, parameters_shape, eps=1e-5):\n",
    "        self.parameters_shape=parameters_shape\n",
    "        self.eps=eps\n",
    "        self.gamma = nn.Parameter(torch.ones(parameters_shape))\n",
    "        self.beta =  nn.Parameter(torch.zeros(parameters_shape))\n",
    "\n",
    "    def forward(self, input):\n",
    "        dims = [-(i + 1) for i in range(len(self.parameters_shape))]\n",
    "        mean = inputs.mean(dim=dims, keepdim=True)\n",
    "        print(f\"Mean \\n ({mean.size()}): \\n {mean}\")\n",
    "        var = ((inputs - mean) ** 2).mean(dim=dims, keepdim=True)\n",
    "        std = (var + self.eps).sqrt()\n",
    "        print(f\"Standard Deviation \\n ({std.size()}): \\n {std}\")\n",
    "        y = (inputs - mean) / std\n",
    "        print(f\"y \\n ({y.size()}) = \\n {y}\")\n",
    "        out = self.gamma * y  + self.beta\n",
    "        print(f\"out \\n ({out.size()}) = \\n {out}\")\n",
    "        return out"
   ]
  },
  {
   "cell_type": "code",
   "execution_count": 20,
   "metadata": {},
   "outputs": [
    {
     "name": "stdout",
     "output_type": "stream",
     "text": [
      "input \n",
      " (torch.Size([5, 3, 8])) = \n",
      " tensor([[[ 0.5448, -0.1171,  0.7527,  0.9059,  0.2313,  0.8846,  0.9386,\n",
      "          -0.6847],\n",
      "         [-0.5084,  0.8072,  0.4242, -1.2370, -1.0891, -0.3457, -1.9590,\n",
      "          -0.2516],\n",
      "         [ 0.4447, -0.0488, -2.0287,  0.8738, -0.5496, -0.8255,  0.4173,\n",
      "          -0.6267]],\n",
      "\n",
      "        [[ 0.7027,  0.3805, -1.2301, -1.4588,  1.6288,  1.4541, -2.3146,\n",
      "           0.0253],\n",
      "         [ 1.5661, -1.7011,  0.6189,  1.7349, -1.6977, -1.3949, -1.3301,\n",
      "           0.3633],\n",
      "         [-0.3668,  0.5905, -0.0704,  0.8422, -1.4134, -0.9281, -1.3643,\n",
      "          -1.7392]],\n",
      "\n",
      "        [[-0.5054, -0.5495, -1.9035, -1.2181, -0.0794,  0.7089, -0.3922,\n",
      "          -0.6577],\n",
      "         [-0.3423,  0.2957,  0.5221, -0.9552,  2.4069, -0.8084,  0.3504,\n",
      "           0.2769],\n",
      "         [ 0.3362,  1.6006, -2.2938,  0.1955,  0.5853, -0.2018, -0.7920,\n",
      "           1.7263]],\n",
      "\n",
      "        [[ 1.3085,  1.4727, -1.3062, -1.6162, -0.7670,  0.9304, -0.5287,\n",
      "           0.3105],\n",
      "         [-0.5746,  0.0801,  0.7485,  1.5443, -1.3373,  1.8301,  0.3865,\n",
      "           0.6108],\n",
      "         [ 0.2429,  1.2168, -1.4924,  0.3253,  0.2599, -0.2631, -1.4870,\n",
      "          -0.5793]],\n",
      "\n",
      "        [[-1.4527,  0.8293,  1.9536,  0.4375,  0.2086,  0.3045, -0.5498,\n",
      "          -1.3011],\n",
      "         [-1.1272,  3.6363,  0.0831, -0.1517,  0.7559, -0.4338,  1.1271,\n",
      "          -0.0323],\n",
      "         [-0.8010,  0.0055, -0.9442,  1.0539,  0.1153,  3.1584,  1.0465,\n",
      "           0.0748]]])\n"
     ]
    }
   ],
   "source": [
    "batch_size = 3\n",
    "sentence_length = 5\n",
    "embedding_dim = 8 \n",
    "inputs = torch.randn(sentence_length, batch_size, embedding_dim)\n",
    "\n",
    "print(f\"input \\n ({inputs.size()}) = \\n {inputs}\")"
   ]
  },
  {
   "cell_type": "code",
   "execution_count": 23,
   "metadata": {},
   "outputs": [
    {
     "name": "stdout",
     "output_type": "stream",
     "text": [
      "Mean \n",
      " (torch.Size([5, 1, 1])): \n",
      " tensor([[[-0.1270]],\n",
      "\n",
      "        [[-0.2959]],\n",
      "\n",
      "        [[-0.0706]],\n",
      "\n",
      "        [[ 0.0548]],\n",
      "\n",
      "        [[ 0.3332]]])\n",
      "Standard Deviation \n",
      " (torch.Size([5, 1, 1])): \n",
      " tensor([[[0.8649]],\n",
      "\n",
      "        [[1.2368]],\n",
      "\n",
      "        [[1.0536]],\n",
      "\n",
      "        [[1.0299]],\n",
      "\n",
      "        [[1.2342]]])\n",
      "y \n",
      " (torch.Size([5, 3, 8])) = \n",
      " tensor([[[ 0.7767,  0.0114,  1.0170,  1.1942,  0.4143,  1.1695,  1.2320,\n",
      "          -0.6449],\n",
      "         [-0.4410,  1.0800,  0.6372, -1.2834, -1.1124, -0.2530, -2.1182,\n",
      "          -0.1441],\n",
      "         [ 0.6609,  0.0904, -2.1988,  1.1571, -0.4887, -0.8077,  0.6293,\n",
      "          -0.5779]],\n",
      "\n",
      "        [[ 0.8074,  0.5469, -0.7553, -0.9402,  1.5562,  1.4149, -1.6321,\n",
      "           0.2597],\n",
      "         [ 1.5055, -1.1361,  0.7396,  1.6419, -1.1334, -0.8886, -0.8361,\n",
      "           0.5330],\n",
      "         [-0.0573,  0.7167,  0.1823,  0.9202, -0.9035, -0.5111, -0.8638,\n",
      "          -1.1669]],\n",
      "\n",
      "        [[-0.4127, -0.4545, -1.7397, -1.0891, -0.0083,  0.7398, -0.3052,\n",
      "          -0.5573],\n",
      "         [-0.2578,  0.3476,  0.5625, -0.8396,  2.3515, -0.7003,  0.3996,\n",
      "           0.3298],\n",
      "         [ 0.3862,  1.5862, -2.1101,  0.2525,  0.6225, -0.1246, -0.6847,\n",
      "           1.7055]],\n",
      "\n",
      "        [[ 1.2174,  1.3768, -1.3216, -1.6225, -0.7980,  0.8502, -0.5666,\n",
      "           0.2483],\n",
      "         [-0.6111,  0.0245,  0.6735,  1.4463, -1.3517,  1.7238,  0.3221,\n",
      "           0.5399],\n",
      "         [ 0.1827,  1.1283, -1.5023,  0.2627,  0.1991, -0.3087, -1.4971,\n",
      "          -0.6158]],\n",
      "\n",
      "        [[-1.4469,  0.4020,  1.3128,  0.0845, -0.1010, -0.0233, -0.7154,\n",
      "          -1.3241],\n",
      "         [-1.1833,  2.6762, -0.2026, -0.3929,  0.3425, -0.6214,  0.6432,\n",
      "          -0.2961],\n",
      "         [-0.9189, -0.2655, -1.0350,  0.5840, -0.1765,  2.2890,  0.5779,\n",
      "          -0.2093]]])\n",
      "out \n",
      " (torch.Size([5, 3, 8])) = \n",
      " tensor([[[ 0.7767,  0.0114,  1.0170,  1.1942,  0.4143,  1.1695,  1.2320,\n",
      "          -0.6449],\n",
      "         [-0.4410,  1.0800,  0.6372, -1.2834, -1.1124, -0.2530, -2.1182,\n",
      "          -0.1441],\n",
      "         [ 0.6609,  0.0904, -2.1988,  1.1571, -0.4887, -0.8077,  0.6293,\n",
      "          -0.5779]],\n",
      "\n",
      "        [[ 0.8074,  0.5469, -0.7553, -0.9402,  1.5562,  1.4149, -1.6321,\n",
      "           0.2597],\n",
      "         [ 1.5055, -1.1361,  0.7396,  1.6419, -1.1334, -0.8886, -0.8361,\n",
      "           0.5330],\n",
      "         [-0.0573,  0.7167,  0.1823,  0.9202, -0.9035, -0.5111, -0.8638,\n",
      "          -1.1669]],\n",
      "\n",
      "        [[-0.4127, -0.4545, -1.7397, -1.0891, -0.0083,  0.7398, -0.3052,\n",
      "          -0.5573],\n",
      "         [-0.2578,  0.3476,  0.5625, -0.8396,  2.3515, -0.7003,  0.3996,\n",
      "           0.3298],\n",
      "         [ 0.3862,  1.5862, -2.1101,  0.2525,  0.6225, -0.1246, -0.6847,\n",
      "           1.7055]],\n",
      "\n",
      "        [[ 1.2174,  1.3768, -1.3216, -1.6225, -0.7980,  0.8502, -0.5666,\n",
      "           0.2483],\n",
      "         [-0.6111,  0.0245,  0.6735,  1.4463, -1.3517,  1.7238,  0.3221,\n",
      "           0.5399],\n",
      "         [ 0.1827,  1.1283, -1.5023,  0.2627,  0.1991, -0.3087, -1.4971,\n",
      "          -0.6158]],\n",
      "\n",
      "        [[-1.4469,  0.4020,  1.3128,  0.0845, -0.1010, -0.0233, -0.7154,\n",
      "          -1.3241],\n",
      "         [-1.1833,  2.6762, -0.2026, -0.3929,  0.3425, -0.6214,  0.6432,\n",
      "          -0.2961],\n",
      "         [-0.9189, -0.2655, -1.0350,  0.5840, -0.1765,  2.2890,  0.5779,\n",
      "          -0.2093]]], grad_fn=<AddBackward0>)\n"
     ]
    },
    {
     "data": {
      "text/plain": [
       "tensor([[[ 0.7767,  0.0114,  1.0170,  1.1942,  0.4143,  1.1695,  1.2320,\n",
       "          -0.6449],\n",
       "         [-0.4410,  1.0800,  0.6372, -1.2834, -1.1124, -0.2530, -2.1182,\n",
       "          -0.1441],\n",
       "         [ 0.6609,  0.0904, -2.1988,  1.1571, -0.4887, -0.8077,  0.6293,\n",
       "          -0.5779]],\n",
       "\n",
       "        [[ 0.8074,  0.5469, -0.7553, -0.9402,  1.5562,  1.4149, -1.6321,\n",
       "           0.2597],\n",
       "         [ 1.5055, -1.1361,  0.7396,  1.6419, -1.1334, -0.8886, -0.8361,\n",
       "           0.5330],\n",
       "         [-0.0573,  0.7167,  0.1823,  0.9202, -0.9035, -0.5111, -0.8638,\n",
       "          -1.1669]],\n",
       "\n",
       "        [[-0.4127, -0.4545, -1.7397, -1.0891, -0.0083,  0.7398, -0.3052,\n",
       "          -0.5573],\n",
       "         [-0.2578,  0.3476,  0.5625, -0.8396,  2.3515, -0.7003,  0.3996,\n",
       "           0.3298],\n",
       "         [ 0.3862,  1.5862, -2.1101,  0.2525,  0.6225, -0.1246, -0.6847,\n",
       "           1.7055]],\n",
       "\n",
       "        [[ 1.2174,  1.3768, -1.3216, -1.6225, -0.7980,  0.8502, -0.5666,\n",
       "           0.2483],\n",
       "         [-0.6111,  0.0245,  0.6735,  1.4463, -1.3517,  1.7238,  0.3221,\n",
       "           0.5399],\n",
       "         [ 0.1827,  1.1283, -1.5023,  0.2627,  0.1991, -0.3087, -1.4971,\n",
       "          -0.6158]],\n",
       "\n",
       "        [[-1.4469,  0.4020,  1.3128,  0.0845, -0.1010, -0.0233, -0.7154,\n",
       "          -1.3241],\n",
       "         [-1.1833,  2.6762, -0.2026, -0.3929,  0.3425, -0.6214,  0.6432,\n",
       "          -0.2961],\n",
       "         [-0.9189, -0.2655, -1.0350,  0.5840, -0.1765,  2.2890,  0.5779,\n",
       "          -0.2093]]], grad_fn=<AddBackward0>)"
      ]
     },
     "execution_count": 23,
     "metadata": {},
     "output_type": "execute_result"
    }
   ],
   "source": [
    "norm= LayerNormalization(parameters_shape=inputs.size()[-2:])\n",
    "norm.forward(inputs)"
   ]
  },
  {
   "cell_type": "code",
   "execution_count": null,
   "metadata": {},
   "outputs": [],
   "source": []
  }
 ],
 "metadata": {
  "kernelspec": {
   "display_name": "materials",
   "language": "python",
   "name": "python3"
  },
  "language_info": {
   "codemirror_mode": {
    "name": "ipython",
    "version": 3
   },
   "file_extension": ".py",
   "mimetype": "text/x-python",
   "name": "python",
   "nbconvert_exporter": "python",
   "pygments_lexer": "ipython3",
   "version": "3.11.2"
  }
 },
 "nbformat": 4,
 "nbformat_minor": 2
}
