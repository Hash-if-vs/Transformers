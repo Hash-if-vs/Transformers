{
 "cells": [
  {
   "cell_type": "markdown",
   "metadata": {},
   "source": [
    "# Multi Head Attention"
   ]
  },
  {
   "cell_type": "code",
   "execution_count": 1,
   "metadata": {},
   "outputs": [],
   "source": [
    "import numpy as np\n",
    "import torch\n",
    "import torch.nn as nn\n",
    "import torch.nn.functional as F"
   ]
  },
  {
   "cell_type": "code",
   "execution_count": 2,
   "metadata": {},
   "outputs": [],
   "source": [
    "sequence_length= 4\n",
    "batch_size =1\n",
    "input_dim= 512\n",
    "d_model=512\n",
    "x=torch.randn((batch_size,sequence_length,input_dim))"
   ]
  },
  {
   "cell_type": "code",
   "execution_count": 3,
   "metadata": {},
   "outputs": [
    {
     "data": {
      "text/plain": [
       "torch.Size([1, 4, 512])"
      ]
     },
     "execution_count": 3,
     "metadata": {},
     "output_type": "execute_result"
    }
   ],
   "source": [
    "x.size()"
   ]
  },
  {
   "cell_type": "code",
   "execution_count": 4,
   "metadata": {},
   "outputs": [
    {
     "data": {
      "text/plain": [
       "Linear(in_features=512, out_features=1536, bias=True)"
      ]
     },
     "execution_count": 4,
     "metadata": {},
     "output_type": "execute_result"
    }
   ],
   "source": [
    "qkv_layer= nn.Linear(input_dim,3*d_model)\n",
    "qkv_layer"
   ]
  },
  {
   "cell_type": "code",
   "execution_count": 5,
   "metadata": {},
   "outputs": [
    {
     "data": {
      "text/plain": [
       "tensor([[[ 0.1879,  0.3536,  0.0309,  ...,  0.1717, -0.0132, -1.5548],\n",
       "         [ 0.4204, -0.1364, -0.5351,  ...,  0.0685,  0.6685,  0.1447],\n",
       "         [ 0.6139,  0.3866, -0.0567,  ...,  0.4234, -0.4719, -0.2524],\n",
       "         [-0.0664, -0.5666, -0.2707,  ...,  0.1831, -1.0645,  0.0470]]],\n",
       "       grad_fn=<ViewBackward0>)"
      ]
     },
     "execution_count": 5,
     "metadata": {},
     "output_type": "execute_result"
    }
   ],
   "source": [
    "qkv=qkv_layer(x)\n",
    "qkv"
   ]
  },
  {
   "cell_type": "code",
   "execution_count": 6,
   "metadata": {},
   "outputs": [
    {
     "data": {
      "text/plain": [
       "<BarContainer object of 200 artists>"
      ]
     },
     "execution_count": 6,
     "metadata": {},
     "output_type": "execute_result"
    },
    {
     "data": {
      "image/png": "[encoded data removed]",
      "text/plain": [
       "<Figure size 640x480 with 1 Axes>"
      ]
     },
     "metadata": {},
     "output_type": "display_data"
    }
   ],
   "source": [
    "import matplotlib.pyplot as plt\n",
    "y_val= torch.histc(qkv,bins=200,min=-3,max=3)\n",
    "x_val= np.arange(-1,1,.01)*3\n",
    "plt.bar(x_val,y_val, align='center')\n"
   ]
  },
  {
   "cell_type": "code",
   "execution_count": 7,
   "metadata": {},
   "outputs": [
    {
     "data": {
      "text/plain": [
       "torch.Size([1, 4, 8, 192])"
      ]
     },
     "execution_count": 7,
     "metadata": {},
     "output_type": "execute_result"
    }
   ],
   "source": [
    "num_heads=8\n",
    "head_dim= d_model// num_heads\n",
    "qkv=qkv.reshape(batch_size,sequence_length,num_heads,3*head_dim)\n",
    "qkv.shape"
   ]
  },
  {
   "cell_type": "code",
   "execution_count": 8,
   "metadata": {},
   "outputs": [
    {
     "data": {
      "text/plain": [
       "torch.Size([1, 8, 4, 192])"
      ]
     },
     "execution_count": 8,
     "metadata": {},
     "output_type": "execute_result"
    }
   ],
   "source": [
    "qkv=qkv.permute(0,2,1,3)\n",
    "qkv.shape\n"
   ]
  },
  {
   "cell_type": "code",
   "execution_count": 9,
   "metadata": {},
   "outputs": [
    {
     "data": {
      "text/plain": [
       "(torch.Size([1, 8, 4, 64]),\n",
       " torch.Size([1, 8, 4, 64]),\n",
       " torch.Size([1, 8, 4, 64]))"
      ]
     },
     "execution_count": 9,
     "metadata": {},
     "output_type": "execute_result"
    }
   ],
   "source": [
    "q,k,v= qkv.chunk(3,dim=-1)\n",
    "q.shape, k.shape , v.shape"
   ]
  },
  {
   "cell_type": "markdown",
   "metadata": {},
   "source": [
    "# Calculating attention\n"
   ]
  },
  {
   "cell_type": "code",
   "execution_count": 10,
   "metadata": {},
   "outputs": [
    {
     "data": {
      "text/plain": [
       "tensor([[[[-0.2338,  0.3945,  0.3104, -0.6006],\n",
       "          [ 0.3588,  0.3620, -0.1650,  0.2344],\n",
       "          [ 0.3666, -0.0674, -0.0649, -0.2284],\n",
       "          [-0.1949,  0.5415,  0.2887,  0.2662]],\n",
       "\n",
       "         [[ 0.3836,  0.2950, -0.2268, -0.3536],\n",
       "          [ 0.4433,  0.3283, -0.3240,  0.2819],\n",
       "          [-0.2426,  0.2668,  0.3948, -0.1664],\n",
       "          [-0.0544, -0.1226,  0.8586, -0.3759]],\n",
       "\n",
       "         [[ 0.4335, -0.0129, -0.0118, -0.2546],\n",
       "          [ 0.1668,  0.2917, -0.4349,  0.1476],\n",
       "          [-0.3265,  0.1003, -0.0500, -0.2322],\n",
       "          [-0.0431, -0.6092, -0.0560, -0.2494]],\n",
       "\n",
       "         [[ 0.5587, -0.4020,  0.1313, -0.0526],\n",
       "          [-0.2206,  0.2203,  0.0555,  0.2451],\n",
       "          [ 0.5459,  0.2093,  0.3547, -0.0205],\n",
       "          [-0.0528, -0.2485,  0.4023, -0.5981]],\n",
       "\n",
       "         [[-0.0056, -0.2956, -0.0198, -0.3341],\n",
       "          [-0.1474,  0.1739,  0.0471, -0.2213],\n",
       "          [-0.1744,  0.1263,  0.6642,  0.0600],\n",
       "          [ 0.4193,  0.1460,  0.5552, -0.4381]],\n",
       "\n",
       "         [[ 0.1060, -0.0598,  0.3369, -0.1222],\n",
       "          [ 0.1358, -0.2568,  0.1344, -0.0479],\n",
       "          [-0.1126, -0.4853,  0.2151,  0.8226],\n",
       "          [-0.2150, -0.0560,  0.0526,  0.2284]],\n",
       "\n",
       "         [[-0.4744, -0.0842,  0.3687,  0.2562],\n",
       "          [ 0.5645,  0.2952,  0.1314, -0.5776],\n",
       "          [ 0.3622,  0.1990, -0.3841, -0.7147],\n",
       "          [-0.0338, -0.4541, -0.6332,  0.4537]],\n",
       "\n",
       "         [[-0.3531, -0.3397,  0.2246, -0.1891],\n",
       "          [ 0.5746, -0.4246,  0.1656, -0.2461],\n",
       "          [-0.0336, -0.0938,  0.0174,  0.3115],\n",
       "          [-0.0121, -0.1123,  0.3436, -0.1980]]]], grad_fn=<DivBackward0>)"
      ]
     },
     "execution_count": 10,
     "metadata": {},
     "output_type": "execute_result"
    }
   ],
   "source": [
    "import math\n",
    "d_k = q.size()[-1]\n",
    "scaled= torch.matmul(q, k.transpose(-2,-1))/math.sqrt(d_k)\n",
    "scaled.shape\n",
    "scaled\n"
   ]
  },
  {
   "cell_type": "code",
   "execution_count": 11,
   "metadata": {},
   "outputs": [
    {
     "data": {
      "text/plain": [
       "tensor([[[[0., -inf, -inf, -inf],\n",
       "          [0., 0., -inf, -inf],\n",
       "          [0., 0., 0., -inf],\n",
       "          [0., 0., 0., 0.]],\n",
       "\n",
       "         [[0., -inf, -inf, -inf],\n",
       "          [0., 0., -inf, -inf],\n",
       "          [0., 0., 0., -inf],\n",
       "          [0., 0., 0., 0.]],\n",
       "\n",
       "         [[0., -inf, -inf, -inf],\n",
       "          [0., 0., -inf, -inf],\n",
       "          [0., 0., 0., -inf],\n",
       "          [0., 0., 0., 0.]],\n",
       "\n",
       "         [[0., -inf, -inf, -inf],\n",
       "          [0., 0., -inf, -inf],\n",
       "          [0., 0., 0., -inf],\n",
       "          [0., 0., 0., 0.]],\n",
       "\n",
       "         [[0., -inf, -inf, -inf],\n",
       "          [0., 0., -inf, -inf],\n",
       "          [0., 0., 0., -inf],\n",
       "          [0., 0., 0., 0.]],\n",
       "\n",
       "         [[0., -inf, -inf, -inf],\n",
       "          [0., 0., -inf, -inf],\n",
       "          [0., 0., 0., -inf],\n",
       "          [0., 0., 0., 0.]],\n",
       "\n",
       "         [[0., -inf, -inf, -inf],\n",
       "          [0., 0., -inf, -inf],\n",
       "          [0., 0., 0., -inf],\n",
       "          [0., 0., 0., 0.]],\n",
       "\n",
       "         [[0., -inf, -inf, -inf],\n",
       "          [0., 0., -inf, -inf],\n",
       "          [0., 0., 0., -inf],\n",
       "          [0., 0., 0., 0.]]]])"
      ]
     },
     "execution_count": 11,
     "metadata": {},
     "output_type": "execute_result"
    }
   ],
   "source": [
    "mask = torch.full(scaled.size(),float('-inf'))\n",
    "mask= torch.triu(mask,diagonal=1)\n",
    "mask"
   ]
  },
  {
   "cell_type": "code",
   "execution_count": 12,
   "metadata": {},
   "outputs": [
    {
     "data": {
      "text/plain": [
       "tensor([[[[-0.2338,    -inf,    -inf,    -inf],\n",
       "          [ 0.3588,  0.3620,    -inf,    -inf],\n",
       "          [ 0.3666, -0.0674, -0.0649,    -inf],\n",
       "          [-0.1949,  0.5415,  0.2887,  0.2662]],\n",
       "\n",
       "         [[ 0.3836,    -inf,    -inf,    -inf],\n",
       "          [ 0.4433,  0.3283,    -inf,    -inf],\n",
       "          [-0.2426,  0.2668,  0.3948,    -inf],\n",
       "          [-0.0544, -0.1226,  0.8586, -0.3759]],\n",
       "\n",
       "         [[ 0.4335,    -inf,    -inf,    -inf],\n",
       "          [ 0.1668,  0.2917,    -inf,    -inf],\n",
       "          [-0.3265,  0.1003, -0.0500,    -inf],\n",
       "          [-0.0431, -0.6092, -0.0560, -0.2494]],\n",
       "\n",
       "         [[ 0.5587,    -inf,    -inf,    -inf],\n",
       "          [-0.2206,  0.2203,    -inf,    -inf],\n",
       "          [ 0.5459,  0.2093,  0.3547,    -inf],\n",
       "          [-0.0528, -0.2485,  0.4023, -0.5981]],\n",
       "\n",
       "         [[-0.0056,    -inf,    -inf,    -inf],\n",
       "          [-0.1474,  0.1739,    -inf,    -inf],\n",
       "          [-0.1744,  0.1263,  0.6642,    -inf],\n",
       "          [ 0.4193,  0.1460,  0.5552, -0.4381]],\n",
       "\n",
       "         [[ 0.1060,    -inf,    -inf,    -inf],\n",
       "          [ 0.1358, -0.2568,    -inf,    -inf],\n",
       "          [-0.1126, -0.4853,  0.2151,    -inf],\n",
       "          [-0.2150, -0.0560,  0.0526,  0.2284]],\n",
       "\n",
       "         [[-0.4744,    -inf,    -inf,    -inf],\n",
       "          [ 0.5645,  0.2952,    -inf,    -inf],\n",
       "          [ 0.3622,  0.1990, -0.3841,    -inf],\n",
       "          [-0.0338, -0.4541, -0.6332,  0.4537]],\n",
       "\n",
       "         [[-0.3531,    -inf,    -inf,    -inf],\n",
       "          [ 0.5746, -0.4246,    -inf,    -inf],\n",
       "          [-0.0336, -0.0938,  0.0174,    -inf],\n",
       "          [-0.0121, -0.1123,  0.3436, -0.1980]]]], grad_fn=<AddBackward0>)"
      ]
     },
     "execution_count": 12,
     "metadata": {},
     "output_type": "execute_result"
    }
   ],
   "source": [
    "scaled+mask"
   ]
  },
  {
   "cell_type": "code",
   "execution_count": 13,
   "metadata": {},
   "outputs": [
    {
     "data": {
      "text/plain": [
       "tensor([[[[-0.2338,    -inf,    -inf,    -inf],\n",
       "          [ 0.3588,  0.3620,    -inf,    -inf],\n",
       "          [ 0.3666, -0.0674, -0.0649,    -inf],\n",
       "          [-0.1949,  0.5415,  0.2887,  0.2662]],\n",
       "\n",
       "         [[ 0.3836,    -inf,    -inf,    -inf],\n",
       "          [ 0.4433,  0.3283,    -inf,    -inf],\n",
       "          [-0.2426,  0.2668,  0.3948,    -inf],\n",
       "          [-0.0544, -0.1226,  0.8586, -0.3759]],\n",
       "\n",
       "         [[ 0.4335,    -inf,    -inf,    -inf],\n",
       "          [ 0.1668,  0.2917,    -inf,    -inf],\n",
       "          [-0.3265,  0.1003, -0.0500,    -inf],\n",
       "          [-0.0431, -0.6092, -0.0560, -0.2494]],\n",
       "\n",
       "         [[ 0.5587,    -inf,    -inf,    -inf],\n",
       "          [-0.2206,  0.2203,    -inf,    -inf],\n",
       "          [ 0.5459,  0.2093,  0.3547,    -inf],\n",
       "          [-0.0528, -0.2485,  0.4023, -0.5981]],\n",
       "\n",
       "         [[-0.0056,    -inf,    -inf,    -inf],\n",
       "          [-0.1474,  0.1739,    -inf,    -inf],\n",
       "          [-0.1744,  0.1263,  0.6642,    -inf],\n",
       "          [ 0.4193,  0.1460,  0.5552, -0.4381]],\n",
       "\n",
       "         [[ 0.1060,    -inf,    -inf,    -inf],\n",
       "          [ 0.1358, -0.2568,    -inf,    -inf],\n",
       "          [-0.1126, -0.4853,  0.2151,    -inf],\n",
       "          [-0.2150, -0.0560,  0.0526,  0.2284]],\n",
       "\n",
       "         [[-0.4744,    -inf,    -inf,    -inf],\n",
       "          [ 0.5645,  0.2952,    -inf,    -inf],\n",
       "          [ 0.3622,  0.1990, -0.3841,    -inf],\n",
       "          [-0.0338, -0.4541, -0.6332,  0.4537]],\n",
       "\n",
       "         [[-0.3531,    -inf,    -inf,    -inf],\n",
       "          [ 0.5746, -0.4246,    -inf,    -inf],\n",
       "          [-0.0336, -0.0938,  0.0174,    -inf],\n",
       "          [-0.0121, -0.1123,  0.3436, -0.1980]]]], grad_fn=<AddBackward0>)"
      ]
     },
     "execution_count": 13,
     "metadata": {},
     "output_type": "execute_result"
    }
   ],
   "source": [
    "scaled+= mask\n",
    "scaled"
   ]
  },
  {
   "cell_type": "code",
   "execution_count": 14,
   "metadata": {},
   "outputs": [
    {
     "data": {
      "text/plain": [
       "tensor([[[[1.0000, 0.0000, 0.0000, 0.0000],\n",
       "          [0.4992, 0.5008, 0.0000, 0.0000],\n",
       "          [0.4353, 0.2820, 0.2827, 0.0000],\n",
       "          [0.1588, 0.3317, 0.2576, 0.2519]],\n",
       "\n",
       "         [[1.0000, 0.0000, 0.0000, 0.0000],\n",
       "          [0.5287, 0.4713, 0.0000, 0.0000],\n",
       "          [0.2195, 0.3653, 0.4152, 0.0000],\n",
       "          [0.1941, 0.1813, 0.4837, 0.1408]],\n",
       "\n",
       "         [[1.0000, 0.0000, 0.0000, 0.0000],\n",
       "          [0.4688, 0.5312, 0.0000, 0.0000],\n",
       "          [0.2597, 0.3979, 0.3424, 0.0000],\n",
       "          [0.2969, 0.1685, 0.2931, 0.2415]],\n",
       "\n",
       "         [[1.0000, 0.0000, 0.0000, 0.0000],\n",
       "          [0.3915, 0.6085, 0.0000, 0.0000],\n",
       "          [0.3937, 0.2812, 0.3251, 0.0000],\n",
       "          [0.2514, 0.2067, 0.3962, 0.1457]],\n",
       "\n",
       "         [[1.0000, 0.0000, 0.0000, 0.0000],\n",
       "          [0.4204, 0.5796, 0.0000, 0.0000],\n",
       "          [0.2144, 0.2896, 0.4960, 0.0000],\n",
       "          [0.3002, 0.2284, 0.3440, 0.1274]],\n",
       "\n",
       "         [[1.0000, 0.0000, 0.0000, 0.0000],\n",
       "          [0.5969, 0.4031, 0.0000, 0.0000],\n",
       "          [0.3250, 0.2239, 0.4511, 0.0000],\n",
       "          [0.1985, 0.2327, 0.2594, 0.3093]],\n",
       "\n",
       "         [[1.0000, 0.0000, 0.0000, 0.0000],\n",
       "          [0.5669, 0.4331, 0.0000, 0.0000],\n",
       "          [0.4304, 0.3656, 0.2041, 0.0000],\n",
       "          [0.2608, 0.1713, 0.1432, 0.4247]],\n",
       "\n",
       "         [[1.0000, 0.0000, 0.0000, 0.0000],\n",
       "          [0.7309, 0.2691, 0.0000, 0.0000],\n",
       "          [0.3340, 0.3145, 0.3515, 0.0000],\n",
       "          [0.2403, 0.2174, 0.3429, 0.1995]]]], grad_fn=<SoftmaxBackward0>)"
      ]
     },
     "execution_count": 14,
     "metadata": {},
     "output_type": "execute_result"
    }
   ],
   "source": [
    "attention= F.softmax(scaled,dim=-1)\n",
    "attention"
   ]
  },
  {
   "cell_type": "code",
   "execution_count": 15,
   "metadata": {},
   "outputs": [
    {
     "data": {
      "text/plain": [
       "torch.Size([1, 8, 4, 64])"
      ]
     },
     "execution_count": 15,
     "metadata": {},
     "output_type": "execute_result"
    }
   ],
   "source": [
    "values= torch.matmul(attention,v)\n",
    "values.shape"
   ]
  },
  {
   "cell_type": "code",
   "execution_count": 16,
   "metadata": {},
   "outputs": [],
   "source": [
    "import math\n",
    "\n",
    "def scaled_dot_product(q, k, v, mask=None):\n",
    "    d_k = q.size()[-1]\n",
    "    scaled = torch.matmul(q, k.transpose(-1, -2)) / math.sqrt(d_k)\n",
    "    if mask is not None:\n",
    "        scaled += mask\n",
    "    attention = F.softmax(scaled, dim=-1)\n",
    "    values = torch.matmul(attention, v)\n",
    "    return values, attention"
   ]
  },
  {
   "cell_type": "code",
   "execution_count": 17,
   "metadata": {},
   "outputs": [
    {
     "data": {
      "text/plain": [
       "tensor([[1.0000, 0.0000, 0.0000, 0.0000],\n",
       "        [0.4992, 0.5008, 0.0000, 0.0000],\n",
       "        [0.4353, 0.2820, 0.2827, 0.0000],\n",
       "        [0.1588, 0.3317, 0.2576, 0.2519]], grad_fn=<SelectBackward0>)"
      ]
     },
     "execution_count": 17,
     "metadata": {},
     "output_type": "execute_result"
    }
   ],
   "source": [
    "values, attention= scaled_dot_product(q,k,v,mask=mask)\n",
    "attention[0][0]"
   ]
  },
  {
   "cell_type": "code",
   "execution_count": 18,
   "metadata": {},
   "outputs": [
    {
     "data": {
      "text/plain": [
       "torch.Size([1, 8, 4, 64])"
      ]
     },
     "execution_count": 18,
     "metadata": {},
     "output_type": "execute_result"
    }
   ],
   "source": [
    "values.size()"
   ]
  },
  {
   "cell_type": "code",
   "execution_count": 19,
   "metadata": {},
   "outputs": [
    {
     "data": {
      "text/plain": [
       "torch.Size([1, 4, 512])"
      ]
     },
     "execution_count": 19,
     "metadata": {},
     "output_type": "execute_result"
    }
   ],
   "source": [
    "values=values.reshape(batch_size,sequence_length,num_heads*head_dim)\n",
    "values.shape"
   ]
  },
  {
   "cell_type": "code",
   "execution_count": 21,
   "metadata": {},
   "outputs": [
    {
     "data": {
      "text/plain": [
       "Linear(in_features=512, out_features=512, bias=True)"
      ]
     },
     "execution_count": 21,
     "metadata": {},
     "output_type": "execute_result"
    }
   ],
   "source": [
    "linear_layer= nn.Linear(d_model,d_model)\n",
    "linear_layer"
   ]
  },
  {
   "cell_type": "code",
   "execution_count": 25,
   "metadata": {},
   "outputs": [
    {
     "data": {
      "text/plain": [
       "(tensor([[[ 0.1289, -0.0674,  0.2131,  ...,  0.1717,  0.0915, -0.1326],\n",
       "          [ 0.2200, -0.0280, -0.1859,  ..., -0.2328, -0.4718,  0.0925],\n",
       "          [-0.8161, -0.2505,  0.0442,  ...,  0.4321,  0.2553, -0.0793],\n",
       "          [-0.0787, -0.0902, -0.2238,  ..., -0.7640,  0.3664, -0.5680]]],\n",
       "        grad_fn=<ViewBackward0>),\n",
       " tensor([[[ 0.4123,  0.3856,  0.0387,  ...,  0.1213, -0.4502, -0.1384],\n",
       "          [-0.3134,  0.7883,  0.4490,  ...,  0.3652, -0.3706,  0.2227],\n",
       "          [ 0.6909, -0.5541,  0.6439,  ...,  0.1293,  0.1702, -0.0158],\n",
       "          [-0.7973, -0.5355, -0.4722,  ...,  0.2378, -0.2321, -0.4193]]],\n",
       "        grad_fn=<ViewBackward0>),\n",
       " torch.Size([1, 4, 512]),\n",
       " torch.Size([1, 4, 512]))"
      ]
     },
     "execution_count": 25,
     "metadata": {},
     "output_type": "execute_result"
    }
   ],
   "source": [
    "out=linear_layer(values)\n",
    "out, values, out.shape, values.shape"
   ]
  },
  {
   "cell_type": "code",
   "execution_count": 26,
   "metadata": {},
   "outputs": [],
   "source": [
    "\n",
    "import torch\n",
    "import torch.nn as nn\n",
    "import math\n",
    "\n",
    "def scaled_dot_product(q, k, v, mask=None):\n",
    "    d_k = q.size()[-1]\n",
    "    scaled = torch.matmul(q, k.transpose(-1, -2)) / math.sqrt(d_k)\n",
    "    if mask is not None:\n",
    "        scaled += mask\n",
    "    attention = F.softmax(scaled, dim=-1)\n",
    "    values = torch.matmul(attention, v)\n",
    "    return values, attention\n",
    "\n",
    "class MultiheadAttention(nn.Module):\n",
    "\n",
    "    def __init__(self, input_dim, d_model, num_heads):\n",
    "        super().__init__()\n",
    "        self.input_dim = input_dim\n",
    "        self.d_model = d_model\n",
    "        self.num_heads = num_heads\n",
    "        self.head_dim = d_model // num_heads\n",
    "        self.qkv_layer = nn.Linear(input_dim , 3 * d_model)\n",
    "        self.linear_layer = nn.Linear(d_model, d_model)\n",
    "    \n",
    "    def forward(self, x, mask=None):\n",
    "        batch_size, sequence_length, input_dim = x.size()\n",
    "        print(f\"x.size(): {x.size()}\")\n",
    "        qkv = self.qkv_layer(x)\n",
    "        print(f\"qkv.size(): {qkv.size()}\")\n",
    "        qkv = qkv.reshape(batch_size, sequence_length, self.num_heads, 3 * self.head_dim)\n",
    "        print(f\"qkv.size(): {qkv.size()}\")\n",
    "        qkv = qkv.permute(0, 2, 1, 3)\n",
    "        print(f\"qkv.size(): {qkv.size()}\")\n",
    "        q, k, v = qkv.chunk(3, dim=-1)\n",
    "        print(f\"q size: {q.size()}, k size: {k.size()}, v size: {v.size()}, \")\n",
    "        values, attention = scaled_dot_product(q, k, v, mask)\n",
    "        print(f\"values.size(): {values.size()}, attention.size:{ attention.size()} \")\n",
    "        values = values.reshape(batch_size, sequence_length, self.num_heads * self.head_dim)\n",
    "        print(f\"values.size(): {values.size()}\")\n",
    "        out = self.linear_layer(values)\n",
    "        print(f\"out.size(): {out.size()}\")\n",
    "        return out\n"
   ]
  },
  {
   "cell_type": "code",
   "execution_count": 27,
   "metadata": {},
   "outputs": [
    {
     "name": "stdout",
     "output_type": "stream",
     "text": [
      "x.size(): torch.Size([30, 5, 1024])\n",
      "qkv.size(): torch.Size([30, 5, 1536])\n",
      "qkv.size(): torch.Size([30, 5, 8, 192])\n",
      "qkv.size(): torch.Size([30, 8, 5, 192])\n",
      "q size: torch.Size([30, 8, 5, 64]), k size: torch.Size([30, 8, 5, 64]), v size: torch.Size([30, 8, 5, 64]), \n",
      "values.size(): torch.Size([30, 8, 5, 64]), attention.size:torch.Size([30, 8, 5, 5]) \n",
      "values.size(): torch.Size([30, 5, 512])\n",
      "out.size(): torch.Size([30, 5, 512])\n"
     ]
    }
   ],
   "source": [
    "\n",
    "input_dim = 1024\n",
    "d_model = 512\n",
    "num_heads = 8\n",
    "\n",
    "batch_size = 30\n",
    "sequence_length = 5\n",
    "x = torch.randn( (batch_size, sequence_length, input_dim) )\n",
    "\n",
    "model = MultiheadAttention(input_dim, d_model, num_heads)\n",
    "out = model.forward(x)"
   ]
  },
  {
   "cell_type": "code",
   "execution_count": null,
   "metadata": {},
   "outputs": [],
   "source": []
  }
 ],
 "metadata": {
  "kernelspec": {
   "display_name": "materials",
   "language": "python",
   "name": "python3"
  },
  "language_info": {
   "codemirror_mode": {
    "name": "ipython",
    "version": 3
   },
   "file_extension": ".py",
   "mimetype": "text/x-python",
   "name": "python",
   "nbconvert_exporter": "python",
   "pygments_lexer": "ipython3",
   "version": "3.11.2"
  }
 },
 "nbformat": 4,
 "nbformat_minor": 2
}
